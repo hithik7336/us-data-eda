{
 "cells": [
  {
   "cell_type": "markdown",
   "id": "c28a845e",
   "metadata": {},
   "source": [
    "## Introduction"
   ]
  },
  {
   "cell_type": "markdown",
   "id": "270a4e1a",
   "metadata": {},
   "source": [
    "This notebook contains work related to getting the coordinates or house addresses present in file."
   ]
  },
  {
   "cell_type": "markdown",
   "id": "02aba19c",
   "metadata": {},
   "source": [
    "## Setup"
   ]
  },
  {
   "cell_type": "code",
   "execution_count": 1,
   "id": "462a3a80",
   "metadata": {
    "ExecuteTime": {
     "end_time": "2023-02-08T14:10:04.928247Z",
     "start_time": "2023-02-08T14:09:32.951127Z"
    }
   },
   "outputs": [],
   "source": [
    "import numpy as np\n",
    "import pandas as pd\n",
    "from tqdm import tqdm\n",
    "from sklearn.utils import shuffle"
   ]
  },
  {
   "cell_type": "code",
   "execution_count": 2,
   "id": "7b00f53d",
   "metadata": {
    "ExecuteTime": {
     "end_time": "2023-02-08T14:10:04.945821Z",
     "start_time": "2023-02-08T14:10:04.932254Z"
    }
   },
   "outputs": [],
   "source": [
    "import project"
   ]
  },
  {
   "cell_type": "code",
   "execution_count": 3,
   "id": "5f2f04ae",
   "metadata": {
    "ExecuteTime": {
     "end_time": "2023-02-08T14:10:07.190541Z",
     "start_time": "2023-02-08T14:10:04.948394Z"
    }
   },
   "outputs": [],
   "source": [
    "from us_houses_eda.get_coordinates import get_latitude, get_longitude"
   ]
  },
  {
   "cell_type": "markdown",
   "id": "4685f173",
   "metadata": {},
   "source": [
    "## Data"
   ]
  },
  {
   "cell_type": "code",
   "execution_count": 4,
   "id": "626a3651",
   "metadata": {
    "ExecuteTime": {
     "end_time": "2023-02-08T14:10:09.612127Z",
     "start_time": "2023-02-08T14:10:07.194075Z"
    }
   },
   "outputs": [],
   "source": [
    "us_house_data = pd.read_parquet('../usa-house-csv/realtor-data.parquet')\n",
    "us_house_data = shuffle(us_house_data[:50000]).reset_index(drop=True)"
   ]
  },
  {
   "cell_type": "code",
   "execution_count": 5,
   "id": "08010664",
   "metadata": {
    "ExecuteTime": {
     "end_time": "2023-02-08T14:10:09.652252Z",
     "start_time": "2023-02-08T14:10:09.615093Z"
    }
   },
   "outputs": [
    {
     "name": "stdout",
     "output_type": "stream",
     "text": [
      "<class 'pandas.core.frame.DataFrame'>\n",
      "RangeIndex: 50000 entries, 0 to 49999\n",
      "Data columns (total 12 columns):\n",
      " #   Column        Non-Null Count  Dtype  \n",
      "---  ------        --------------  -----  \n",
      " 0   status        50000 non-null  object \n",
      " 1   price         50000 non-null  float64\n",
      " 2   bed           38168 non-null  float64\n",
      " 3   bath          38359 non-null  float64\n",
      " 4   acre_lot      41839 non-null  float64\n",
      " 5   full_address  50000 non-null  object \n",
      " 6   street        49945 non-null  object \n",
      " 7   city          49949 non-null  object \n",
      " 8   state         50000 non-null  object \n",
      " 9   zip_code      49818 non-null  float64\n",
      " 10  house_size    37953 non-null  float64\n",
      " 11  sold_date     9534 non-null   object \n",
      "dtypes: float64(6), object(6)\n",
      "memory usage: 4.6+ MB\n"
     ]
    }
   ],
   "source": [
    "us_house_data.info()"
   ]
  },
  {
   "cell_type": "markdown",
   "id": "de03cd59",
   "metadata": {},
   "source": [
    "## Getting Coordinates"
   ]
  },
  {
   "cell_type": "code",
   "execution_count": 6,
   "id": "1d50104e",
   "metadata": {
    "ExecuteTime": {
     "end_time": "2023-02-08T21:11:55.865362Z",
     "start_time": "2023-02-08T14:10:09.656845Z"
    }
   },
   "outputs": [],
   "source": [
    "lats = us_house_data['city'].apply(get_latitude)"
   ]
  },
  {
   "cell_type": "code",
   "execution_count": 7,
   "id": "b917d829",
   "metadata": {
    "ExecuteTime": {
     "end_time": "2023-02-09T04:09:08.086108Z",
     "start_time": "2023-02-08T21:11:55.867519Z"
    }
   },
   "outputs": [],
   "source": [
    "longs = us_house_data['city'].apply(get_longitude)"
   ]
  },
  {
   "cell_type": "markdown",
   "id": "e423953d",
   "metadata": {},
   "source": [
    "## Saving Lats and Longs as a DataFrame"
   ]
  },
  {
   "cell_type": "code",
   "execution_count": 14,
   "id": "81a92044",
   "metadata": {
    "ExecuteTime": {
     "end_time": "2023-02-09T13:45:13.605080Z",
     "start_time": "2023-02-09T13:45:13.594290Z"
    }
   },
   "outputs": [],
   "source": [
    "lats_df = pd.DataFrame({'lats':lats.values})\n",
    "longs_df = pd.DataFrame({'longs':longs.values})"
   ]
  },
  {
   "cell_type": "markdown",
   "id": "bf3f3b42",
   "metadata": {},
   "source": [
    "## Concatenating the lats and longs to existing data frame"
   ]
  },
  {
   "cell_type": "code",
   "execution_count": 17,
   "id": "e12a70d3",
   "metadata": {
    "ExecuteTime": {
     "end_time": "2023-02-09T13:47:28.177444Z",
     "start_time": "2023-02-09T13:47:28.148540Z"
    }
   },
   "outputs": [
    {
     "data": {
      "text/html": [
       "<div>\n",
       "<style scoped>\n",
       "    .dataframe tbody tr th:only-of-type {\n",
       "        vertical-align: middle;\n",
       "    }\n",
       "\n",
       "    .dataframe tbody tr th {\n",
       "        vertical-align: top;\n",
       "    }\n",
       "\n",
       "    .dataframe thead th {\n",
       "        text-align: right;\n",
       "    }\n",
       "</style>\n",
       "<table border=\"1\" class=\"dataframe\">\n",
       "  <thead>\n",
       "    <tr style=\"text-align: right;\">\n",
       "      <th></th>\n",
       "      <th>status</th>\n",
       "      <th>price</th>\n",
       "      <th>bed</th>\n",
       "      <th>bath</th>\n",
       "      <th>acre_lot</th>\n",
       "      <th>full_address</th>\n",
       "      <th>street</th>\n",
       "      <th>city</th>\n",
       "      <th>state</th>\n",
       "      <th>zip_code</th>\n",
       "      <th>house_size</th>\n",
       "      <th>sold_date</th>\n",
       "      <th>lats</th>\n",
       "      <th>longs</th>\n",
       "    </tr>\n",
       "  </thead>\n",
       "  <tbody>\n",
       "    <tr>\n",
       "      <th>0</th>\n",
       "      <td>for_sale</td>\n",
       "      <td>95000.0</td>\n",
       "      <td>6.0</td>\n",
       "      <td>2.0</td>\n",
       "      <td>0.11</td>\n",
       "      <td>15 Calle Santa Rosa De Lima, Hormigueros, PR, ...</td>\n",
       "      <td>15 Calle Santa Rosa De Lima</td>\n",
       "      <td>Hormigueros</td>\n",
       "      <td>Puerto Rico</td>\n",
       "      <td>660.0</td>\n",
       "      <td>2914.0</td>\n",
       "      <td>None</td>\n",
       "      <td>18.132469</td>\n",
       "      <td>-67.113919</td>\n",
       "    </tr>\n",
       "    <tr>\n",
       "      <th>1</th>\n",
       "      <td>for_sale</td>\n",
       "      <td>335000.0</td>\n",
       "      <td>3.0</td>\n",
       "      <td>2.0</td>\n",
       "      <td>10.00</td>\n",
       "      <td>229 River Rd, Whately, MA, 01093</td>\n",
       "      <td>229 River Rd</td>\n",
       "      <td>Whately</td>\n",
       "      <td>Massachusetts</td>\n",
       "      <td>1093.0</td>\n",
       "      <td>1277.0</td>\n",
       "      <td>None</td>\n",
       "      <td>42.436948</td>\n",
       "      <td>-72.641517</td>\n",
       "    </tr>\n",
       "    <tr>\n",
       "      <th>2</th>\n",
       "      <td>for_sale</td>\n",
       "      <td>324900.0</td>\n",
       "      <td>4.0</td>\n",
       "      <td>3.0</td>\n",
       "      <td>2.00</td>\n",
       "      <td>13 Rockwell Rd, Stafford, CT, 06076</td>\n",
       "      <td>13 Rockwell Rd</td>\n",
       "      <td>Stafford</td>\n",
       "      <td>Connecticut</td>\n",
       "      <td>6076.0</td>\n",
       "      <td>1332.0</td>\n",
       "      <td>2004-02-27</td>\n",
       "      <td>52.806316</td>\n",
       "      <td>-2.116382</td>\n",
       "    </tr>\n",
       "    <tr>\n",
       "      <th>3</th>\n",
       "      <td>for_sale</td>\n",
       "      <td>55000.0</td>\n",
       "      <td>NaN</td>\n",
       "      <td>NaN</td>\n",
       "      <td>8.00</td>\n",
       "      <td>Westerly Side Southampton Rd, Westfield, MA, 0...</td>\n",
       "      <td>Westerly Side Southampton Rd</td>\n",
       "      <td>Westfield</td>\n",
       "      <td>Massachusetts</td>\n",
       "      <td>1085.0</td>\n",
       "      <td>NaN</td>\n",
       "      <td>None</td>\n",
       "      <td>42.139033</td>\n",
       "      <td>-72.758486</td>\n",
       "    </tr>\n",
       "    <tr>\n",
       "      <th>4</th>\n",
       "      <td>for_sale</td>\n",
       "      <td>49900.0</td>\n",
       "      <td>NaN</td>\n",
       "      <td>NaN</td>\n",
       "      <td>1.42</td>\n",
       "      <td>205 Upper Church St Lot 3, Ware, MA, 01082</td>\n",
       "      <td>205 Upper Church St Lot 3</td>\n",
       "      <td>Ware</td>\n",
       "      <td>Massachusetts</td>\n",
       "      <td>1082.0</td>\n",
       "      <td>NaN</td>\n",
       "      <td>None</td>\n",
       "      <td>31.172723</td>\n",
       "      <td>-82.482934</td>\n",
       "    </tr>\n",
       "  </tbody>\n",
       "</table>\n",
       "</div>"
      ],
      "text/plain": [
       "     status     price  bed  bath  acre_lot  \\\n",
       "0  for_sale   95000.0  6.0   2.0      0.11   \n",
       "1  for_sale  335000.0  3.0   2.0     10.00   \n",
       "2  for_sale  324900.0  4.0   3.0      2.00   \n",
       "3  for_sale   55000.0  NaN   NaN      8.00   \n",
       "4  for_sale   49900.0  NaN   NaN      1.42   \n",
       "\n",
       "                                        full_address  \\\n",
       "0  15 Calle Santa Rosa De Lima, Hormigueros, PR, ...   \n",
       "1                   229 River Rd, Whately, MA, 01093   \n",
       "2                13 Rockwell Rd, Stafford, CT, 06076   \n",
       "3  Westerly Side Southampton Rd, Westfield, MA, 0...   \n",
       "4         205 Upper Church St Lot 3, Ware, MA, 01082   \n",
       "\n",
       "                         street         city          state  zip_code  \\\n",
       "0   15 Calle Santa Rosa De Lima  Hormigueros    Puerto Rico     660.0   \n",
       "1                  229 River Rd      Whately  Massachusetts    1093.0   \n",
       "2                13 Rockwell Rd     Stafford    Connecticut    6076.0   \n",
       "3  Westerly Side Southampton Rd    Westfield  Massachusetts    1085.0   \n",
       "4     205 Upper Church St Lot 3         Ware  Massachusetts    1082.0   \n",
       "\n",
       "   house_size   sold_date       lats      longs  \n",
       "0      2914.0        None  18.132469 -67.113919  \n",
       "1      1277.0        None  42.436948 -72.641517  \n",
       "2      1332.0  2004-02-27  52.806316  -2.116382  \n",
       "3         NaN        None  42.139033 -72.758486  \n",
       "4         NaN        None  31.172723 -82.482934  "
      ]
     },
     "execution_count": 17,
     "metadata": {},
     "output_type": "execute_result"
    }
   ],
   "source": [
    "updated_df = pd.concat([us_house_data, lats_df, longs_df], axis=1)\n",
    "updated_df.head()"
   ]
  },
  {
   "cell_type": "markdown",
   "id": "ccd8f8e7",
   "metadata": {},
   "source": [
    "## Saving the above Data Frame as Parquet"
   ]
  },
  {
   "cell_type": "code",
   "execution_count": 18,
   "id": "7856a249",
   "metadata": {
    "ExecuteTime": {
     "end_time": "2023-02-09T13:48:48.780495Z",
     "start_time": "2023-02-09T13:48:48.333216Z"
    }
   },
   "outputs": [],
   "source": [
    "updated_df.to_parquet('../usa-house-csv/us_houses_data_lats_longs.parquet')"
   ]
  }
 ],
 "metadata": {
  "kernelspec": {
   "display_name": "ds-labs",
   "language": "python",
   "name": "ds-labs"
  },
  "language_info": {
   "codemirror_mode": {
    "name": "ipython",
    "version": 3
   },
   "file_extension": ".py",
   "mimetype": "text/x-python",
   "name": "python",
   "nbconvert_exporter": "python",
   "pygments_lexer": "ipython3",
   "version": "3.7.12"
  },
  "toc": {
   "base_numbering": 1,
   "nav_menu": {},
   "number_sections": true,
   "sideBar": true,
   "skip_h1_title": false,
   "title_cell": "Table of Contents",
   "title_sidebar": "Contents",
   "toc_cell": false,
   "toc_position": {},
   "toc_section_display": true,
   "toc_window_display": false
  }
 },
 "nbformat": 4,
 "nbformat_minor": 5
}
