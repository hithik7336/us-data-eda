{
 "cells": [
  {
   "cell_type": "markdown",
   "id": "1c6040ca",
   "metadata": {},
   "source": [
    "## Introduction"
   ]
  },
  {
   "cell_type": "markdown",
   "id": "4644b101",
   "metadata": {},
   "source": [
    "## Setup"
   ]
  },
  {
   "cell_type": "code",
   "execution_count": 1,
   "id": "1c4344d9",
   "metadata": {
    "ExecuteTime": {
     "end_time": "2023-02-09T14:34:47.413216Z",
     "start_time": "2023-02-09T14:34:13.732383Z"
    }
   },
   "outputs": [],
   "source": [
    "import numpy as np\n",
    "import pandas as pd\n",
    "import geopandas as gpd"
   ]
  },
  {
   "cell_type": "markdown",
   "id": "1241330c",
   "metadata": {},
   "source": [
    "## Data"
   ]
  },
  {
   "cell_type": "code",
   "execution_count": 2,
   "id": "d68ca011",
   "metadata": {
    "ExecuteTime": {
     "end_time": "2023-02-09T14:37:04.168360Z",
     "start_time": "2023-02-09T14:37:02.163929Z"
    }
   },
   "outputs": [],
   "source": [
    "us_house_data = pd.read_parquet('../usa-house-csv/us_houses_data_lats_longs.parquet')\n",
    "us_shape_file = gpd.read_file('../usa-states-shapefile/cb_2018_us_state_500k.shp')"
   ]
  },
  {
   "cell_type": "markdown",
   "id": "7a139c35",
   "metadata": {},
   "source": [
    "### Parquet File"
   ]
  },
  {
   "cell_type": "code",
   "execution_count": 4,
   "id": "183fe538",
   "metadata": {
    "ExecuteTime": {
     "end_time": "2023-02-09T14:37:57.794829Z",
     "start_time": "2023-02-09T14:37:57.776636Z"
    }
   },
   "outputs": [
    {
     "data": {
      "text/html": [
       "<div>\n",
       "<style scoped>\n",
       "    .dataframe tbody tr th:only-of-type {\n",
       "        vertical-align: middle;\n",
       "    }\n",
       "\n",
       "    .dataframe tbody tr th {\n",
       "        vertical-align: top;\n",
       "    }\n",
       "\n",
       "    .dataframe thead th {\n",
       "        text-align: right;\n",
       "    }\n",
       "</style>\n",
       "<table border=\"1\" class=\"dataframe\">\n",
       "  <thead>\n",
       "    <tr style=\"text-align: right;\">\n",
       "      <th></th>\n",
       "      <th>status</th>\n",
       "      <th>price</th>\n",
       "      <th>bed</th>\n",
       "      <th>bath</th>\n",
       "      <th>acre_lot</th>\n",
       "      <th>full_address</th>\n",
       "      <th>street</th>\n",
       "      <th>city</th>\n",
       "      <th>state</th>\n",
       "      <th>zip_code</th>\n",
       "      <th>house_size</th>\n",
       "      <th>sold_date</th>\n",
       "      <th>lats</th>\n",
       "      <th>longs</th>\n",
       "    </tr>\n",
       "  </thead>\n",
       "  <tbody>\n",
       "    <tr>\n",
       "      <th>0</th>\n",
       "      <td>for_sale</td>\n",
       "      <td>95000.0</td>\n",
       "      <td>6.0</td>\n",
       "      <td>2.0</td>\n",
       "      <td>0.11</td>\n",
       "      <td>15 Calle Santa Rosa De Lima, Hormigueros, PR, ...</td>\n",
       "      <td>15 Calle Santa Rosa De Lima</td>\n",
       "      <td>Hormigueros</td>\n",
       "      <td>Puerto Rico</td>\n",
       "      <td>660.0</td>\n",
       "      <td>2914.0</td>\n",
       "      <td>None</td>\n",
       "      <td>18.132469</td>\n",
       "      <td>-67.113919</td>\n",
       "    </tr>\n",
       "    <tr>\n",
       "      <th>1</th>\n",
       "      <td>for_sale</td>\n",
       "      <td>335000.0</td>\n",
       "      <td>3.0</td>\n",
       "      <td>2.0</td>\n",
       "      <td>10.00</td>\n",
       "      <td>229 River Rd, Whately, MA, 01093</td>\n",
       "      <td>229 River Rd</td>\n",
       "      <td>Whately</td>\n",
       "      <td>Massachusetts</td>\n",
       "      <td>1093.0</td>\n",
       "      <td>1277.0</td>\n",
       "      <td>None</td>\n",
       "      <td>42.436948</td>\n",
       "      <td>-72.641517</td>\n",
       "    </tr>\n",
       "    <tr>\n",
       "      <th>2</th>\n",
       "      <td>for_sale</td>\n",
       "      <td>324900.0</td>\n",
       "      <td>4.0</td>\n",
       "      <td>3.0</td>\n",
       "      <td>2.00</td>\n",
       "      <td>13 Rockwell Rd, Stafford, CT, 06076</td>\n",
       "      <td>13 Rockwell Rd</td>\n",
       "      <td>Stafford</td>\n",
       "      <td>Connecticut</td>\n",
       "      <td>6076.0</td>\n",
       "      <td>1332.0</td>\n",
       "      <td>2004-02-27</td>\n",
       "      <td>52.806316</td>\n",
       "      <td>-2.116382</td>\n",
       "    </tr>\n",
       "    <tr>\n",
       "      <th>3</th>\n",
       "      <td>for_sale</td>\n",
       "      <td>55000.0</td>\n",
       "      <td>NaN</td>\n",
       "      <td>NaN</td>\n",
       "      <td>8.00</td>\n",
       "      <td>Westerly Side Southampton Rd, Westfield, MA, 0...</td>\n",
       "      <td>Westerly Side Southampton Rd</td>\n",
       "      <td>Westfield</td>\n",
       "      <td>Massachusetts</td>\n",
       "      <td>1085.0</td>\n",
       "      <td>NaN</td>\n",
       "      <td>None</td>\n",
       "      <td>42.139033</td>\n",
       "      <td>-72.758486</td>\n",
       "    </tr>\n",
       "    <tr>\n",
       "      <th>4</th>\n",
       "      <td>for_sale</td>\n",
       "      <td>49900.0</td>\n",
       "      <td>NaN</td>\n",
       "      <td>NaN</td>\n",
       "      <td>1.42</td>\n",
       "      <td>205 Upper Church St Lot 3, Ware, MA, 01082</td>\n",
       "      <td>205 Upper Church St Lot 3</td>\n",
       "      <td>Ware</td>\n",
       "      <td>Massachusetts</td>\n",
       "      <td>1082.0</td>\n",
       "      <td>NaN</td>\n",
       "      <td>None</td>\n",
       "      <td>31.172723</td>\n",
       "      <td>-82.482934</td>\n",
       "    </tr>\n",
       "  </tbody>\n",
       "</table>\n",
       "</div>"
      ],
      "text/plain": [
       "     status     price  bed  bath  acre_lot  \\\n",
       "0  for_sale   95000.0  6.0   2.0      0.11   \n",
       "1  for_sale  335000.0  3.0   2.0     10.00   \n",
       "2  for_sale  324900.0  4.0   3.0      2.00   \n",
       "3  for_sale   55000.0  NaN   NaN      8.00   \n",
       "4  for_sale   49900.0  NaN   NaN      1.42   \n",
       "\n",
       "                                        full_address  \\\n",
       "0  15 Calle Santa Rosa De Lima, Hormigueros, PR, ...   \n",
       "1                   229 River Rd, Whately, MA, 01093   \n",
       "2                13 Rockwell Rd, Stafford, CT, 06076   \n",
       "3  Westerly Side Southampton Rd, Westfield, MA, 0...   \n",
       "4         205 Upper Church St Lot 3, Ware, MA, 01082   \n",
       "\n",
       "                         street         city          state  zip_code  \\\n",
       "0   15 Calle Santa Rosa De Lima  Hormigueros    Puerto Rico     660.0   \n",
       "1                  229 River Rd      Whately  Massachusetts    1093.0   \n",
       "2                13 Rockwell Rd     Stafford    Connecticut    6076.0   \n",
       "3  Westerly Side Southampton Rd    Westfield  Massachusetts    1085.0   \n",
       "4     205 Upper Church St Lot 3         Ware  Massachusetts    1082.0   \n",
       "\n",
       "   house_size   sold_date       lats      longs  \n",
       "0      2914.0        None  18.132469 -67.113919  \n",
       "1      1277.0        None  42.436948 -72.641517  \n",
       "2      1332.0  2004-02-27  52.806316  -2.116382  \n",
       "3         NaN        None  42.139033 -72.758486  \n",
       "4         NaN        None  31.172723 -82.482934  "
      ]
     },
     "execution_count": 4,
     "metadata": {},
     "output_type": "execute_result"
    }
   ],
   "source": [
    "us_house_data.head()"
   ]
  },
  {
   "cell_type": "markdown",
   "id": "93e5cc16",
   "metadata": {},
   "source": [
    "### Shapefile"
   ]
  },
  {
   "cell_type": "code",
   "execution_count": 3,
   "id": "e8d1bd16",
   "metadata": {
    "ExecuteTime": {
     "end_time": "2023-02-09T14:37:43.948108Z",
     "start_time": "2023-02-09T14:37:43.756814Z"
    }
   },
   "outputs": [
    {
     "data": {
      "text/html": [
       "<div>\n",
       "<style scoped>\n",
       "    .dataframe tbody tr th:only-of-type {\n",
       "        vertical-align: middle;\n",
       "    }\n",
       "\n",
       "    .dataframe tbody tr th {\n",
       "        vertical-align: top;\n",
       "    }\n",
       "\n",
       "    .dataframe thead th {\n",
       "        text-align: right;\n",
       "    }\n",
       "</style>\n",
       "<table border=\"1\" class=\"dataframe\">\n",
       "  <thead>\n",
       "    <tr style=\"text-align: right;\">\n",
       "      <th></th>\n",
       "      <th>STATEFP</th>\n",
       "      <th>STATENS</th>\n",
       "      <th>AFFGEOID</th>\n",
       "      <th>GEOID</th>\n",
       "      <th>STUSPS</th>\n",
       "      <th>NAME</th>\n",
       "      <th>LSAD</th>\n",
       "      <th>ALAND</th>\n",
       "      <th>AWATER</th>\n",
       "      <th>geometry</th>\n",
       "    </tr>\n",
       "  </thead>\n",
       "  <tbody>\n",
       "    <tr>\n",
       "      <th>0</th>\n",
       "      <td>28</td>\n",
       "      <td>01779790</td>\n",
       "      <td>0400000US28</td>\n",
       "      <td>28</td>\n",
       "      <td>MS</td>\n",
       "      <td>Mississippi</td>\n",
       "      <td>00</td>\n",
       "      <td>121533519481</td>\n",
       "      <td>3926919758</td>\n",
       "      <td>MULTIPOLYGON (((-88.50297 30.21523, -88.49176 ...</td>\n",
       "    </tr>\n",
       "    <tr>\n",
       "      <th>1</th>\n",
       "      <td>37</td>\n",
       "      <td>01027616</td>\n",
       "      <td>0400000US37</td>\n",
       "      <td>37</td>\n",
       "      <td>NC</td>\n",
       "      <td>North Carolina</td>\n",
       "      <td>00</td>\n",
       "      <td>125923656064</td>\n",
       "      <td>13466071395</td>\n",
       "      <td>MULTIPOLYGON (((-75.72681 35.93584, -75.71827 ...</td>\n",
       "    </tr>\n",
       "    <tr>\n",
       "      <th>2</th>\n",
       "      <td>40</td>\n",
       "      <td>01102857</td>\n",
       "      <td>0400000US40</td>\n",
       "      <td>40</td>\n",
       "      <td>OK</td>\n",
       "      <td>Oklahoma</td>\n",
       "      <td>00</td>\n",
       "      <td>177662925723</td>\n",
       "      <td>3374587997</td>\n",
       "      <td>POLYGON ((-103.00257 36.52659, -103.00219 36.6...</td>\n",
       "    </tr>\n",
       "    <tr>\n",
       "      <th>3</th>\n",
       "      <td>51</td>\n",
       "      <td>01779803</td>\n",
       "      <td>0400000US51</td>\n",
       "      <td>51</td>\n",
       "      <td>VA</td>\n",
       "      <td>Virginia</td>\n",
       "      <td>00</td>\n",
       "      <td>102257717110</td>\n",
       "      <td>8528531774</td>\n",
       "      <td>MULTIPOLYGON (((-75.74241 37.80835, -75.74151 ...</td>\n",
       "    </tr>\n",
       "    <tr>\n",
       "      <th>4</th>\n",
       "      <td>54</td>\n",
       "      <td>01779805</td>\n",
       "      <td>0400000US54</td>\n",
       "      <td>54</td>\n",
       "      <td>WV</td>\n",
       "      <td>West Virginia</td>\n",
       "      <td>00</td>\n",
       "      <td>62266474513</td>\n",
       "      <td>489028543</td>\n",
       "      <td>POLYGON ((-82.64320 38.16909, -82.64300 38.169...</td>\n",
       "    </tr>\n",
       "  </tbody>\n",
       "</table>\n",
       "</div>"
      ],
      "text/plain": [
       "  STATEFP   STATENS     AFFGEOID GEOID STUSPS            NAME LSAD  \\\n",
       "0      28  01779790  0400000US28    28     MS     Mississippi   00   \n",
       "1      37  01027616  0400000US37    37     NC  North Carolina   00   \n",
       "2      40  01102857  0400000US40    40     OK        Oklahoma   00   \n",
       "3      51  01779803  0400000US51    51     VA        Virginia   00   \n",
       "4      54  01779805  0400000US54    54     WV   West Virginia   00   \n",
       "\n",
       "          ALAND       AWATER  \\\n",
       "0  121533519481   3926919758   \n",
       "1  125923656064  13466071395   \n",
       "2  177662925723   3374587997   \n",
       "3  102257717110   8528531774   \n",
       "4   62266474513    489028543   \n",
       "\n",
       "                                            geometry  \n",
       "0  MULTIPOLYGON (((-88.50297 30.21523, -88.49176 ...  \n",
       "1  MULTIPOLYGON (((-75.72681 35.93584, -75.71827 ...  \n",
       "2  POLYGON ((-103.00257 36.52659, -103.00219 36.6...  \n",
       "3  MULTIPOLYGON (((-75.74241 37.80835, -75.74151 ...  \n",
       "4  POLYGON ((-82.64320 38.16909, -82.64300 38.169...  "
      ]
     },
     "execution_count": 3,
     "metadata": {},
     "output_type": "execute_result"
    }
   ],
   "source": [
    "us_shape_file.head()"
   ]
  },
  {
   "cell_type": "code",
   "execution_count": null,
   "id": "08e04d58",
   "metadata": {},
   "outputs": [],
   "source": []
  }
 ],
 "metadata": {
  "kernelspec": {
   "display_name": "ds-labs",
   "language": "python",
   "name": "ds-labs"
  },
  "language_info": {
   "codemirror_mode": {
    "name": "ipython",
    "version": 3
   },
   "file_extension": ".py",
   "mimetype": "text/x-python",
   "name": "python",
   "nbconvert_exporter": "python",
   "pygments_lexer": "ipython3",
   "version": "3.7.12"
  },
  "toc": {
   "base_numbering": 1,
   "nav_menu": {},
   "number_sections": true,
   "sideBar": true,
   "skip_h1_title": false,
   "title_cell": "Table of Contents",
   "title_sidebar": "Contents",
   "toc_cell": false,
   "toc_position": {},
   "toc_section_display": true,
   "toc_window_display": false
  }
 },
 "nbformat": 4,
 "nbformat_minor": 5
}
